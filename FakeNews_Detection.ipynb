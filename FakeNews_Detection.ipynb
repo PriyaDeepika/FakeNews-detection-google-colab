{
  "nbformat": 4,
  "nbformat_minor": 0,
  "metadata": {
    "colab": {
      "provenance": []
    },
    "kernelspec": {
      "name": "python3",
      "display_name": "Python 3"
    },
    "language_info": {
      "name": "python"
    }
  },
  "cells": [
    {
      "cell_type": "markdown",
      "source": [
        "# **FakeNewsDetection**"
      ],
      "metadata": {
        "id": "Lt6Pe0G0yNze"
      }
    },
    {
      "cell_type": "code",
      "execution_count": 1,
      "metadata": {
        "id": "ykozJE_Yx-e2"
      },
      "outputs": [],
      "source": []
    }
  ]
}